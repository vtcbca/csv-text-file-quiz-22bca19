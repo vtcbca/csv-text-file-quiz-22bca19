{
 "cells": [
  {
   "cell_type": "code",
   "execution_count": 13,
   "id": "eefcb042-8730-4ed6-8358-eef9f18415b8",
   "metadata": {},
   "outputs": [],
   "source": [
    "filename=\"c://sqlite3//BCA.txt\""
   ]
  },
  {
   "cell_type": "code",
   "execution_count": 14,
   "id": "786714fd-98e2-4764-a7d4-fddb7550948a",
   "metadata": {},
   "outputs": [
    {
     "name": "stdout",
     "output_type": "stream",
     "text": [
      "One line added successful\n"
     ]
    }
   ],
   "source": [
    "with open(filename,\"w\",newline=\"\")as write_file:\n",
    "    heading=['\\t\\tDetils About BCA Course']\n",
    "    write_file.writelines(heading)\n",
    "    print('One line added successful')\n",
    "    content=['BCA is computer science Course.\\n',\n",
    "             'It is stand for Bachelor of computer application\\n',\n",
    "             'In this course,we learn about programming languages and related to computer knoweldge\\n',\n",
    "             'BCA is 3 years of course,we can also clear BCA honur with 4 year.',\n",
    "             'After BCA Many we can work in many companies work as a software developer,application developer,web designer and lots of jobs.'\n",
    "            ]"
   ]
  },
  {
   "cell_type": "code",
   "execution_count": 19,
   "id": "1014c94d-b663-45a1-be60-2fb12372a3e6",
   "metadata": {},
   "outputs": [
    {
     "name": "stdout",
     "output_type": "stream",
     "text": [
      "\t\tDetils About BCA Course\n"
     ]
    }
   ],
   "source": [
    "with open(filename,\"r\")as read_file:\n",
    "    data=read_file.read()\n",
    "    print(data)\n"
   ]
  },
  {
   "cell_type": "code",
   "execution_count": 20,
   "id": "b411b812-ef31-41b6-943c-53ed5e8b89bd",
   "metadata": {},
   "outputs": [
    {
     "name": "stdout",
     "output_type": "stream",
     "text": [
      "Total  in text file is: 1\n"
     ]
    }
   ],
   "source": [
    "with open(filename,\"r\")as read_file:\n",
    "    data=read_file.read()\n",
    "    count=0\n",
    "    for i in range(len(data)):\n",
    "        if data[i][0]==str('B'):\n",
    "            count+=1\n",
    "    print('Total  in text file is:',count)"
   ]
  },
  {
   "cell_type": "code",
   "execution_count": null,
   "id": "cbcf000e-445e-44db-9baa-173208820f2a",
   "metadata": {},
   "outputs": [],
   "source": []
  }
 ],
 "metadata": {
  "kernelspec": {
   "display_name": "Python 3 (ipykernel)",
   "language": "python",
   "name": "python3"
  },
  "language_info": {
   "codemirror_mode": {
    "name": "ipython",
    "version": 3
   },
   "file_extension": ".py",
   "mimetype": "text/x-python",
   "name": "python",
   "nbconvert_exporter": "python",
   "pygments_lexer": "ipython3",
   "version": "3.9.6"
  }
 },
 "nbformat": 4,
 "nbformat_minor": 5
}
